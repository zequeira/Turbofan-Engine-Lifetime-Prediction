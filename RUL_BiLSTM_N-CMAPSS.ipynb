{
 "cells": [
  {
   "cell_type": "code",
   "execution_count": 1,
   "metadata": {},
   "outputs": [],
   "source": [
    "import os\n",
    "import time\n",
    "import copy\n",
    "import numpy as np\n",
    "import pandas as pd\n",
    "from matplotlib import pyplot as plt\n",
    "from tqdm import tqdm\n",
    "from pickle import load\n",
    "from sklearn.metrics import mean_squared_error\n",
    "\n",
    "import torch\n",
    "import torch.nn as nn\n",
    "from torch.optim import lr_scheduler\n",
    "from torch.utils.data import Dataset, DataLoader\n",
    "import torch.nn.functional as F\n",
    "%matplotlib inline\n",
    "\n",
    "import warnings\n",
    "warnings.filterwarnings('ignore')"
   ]
  },
  {
   "cell_type": "code",
   "execution_count": 2,
   "metadata": {},
   "outputs": [],
   "source": [
    "def plot_loss_history(train_loss, val_loss):\n",
    "    plt.figure(figsize=(20, 8))\n",
    "    plt.plot(train_loss.index.tolist(), train_loss.tolist(),\n",
    "             lw=3, label='Train Loss')\n",
    "    plt.plot(val_loss.index.tolist(), val_loss.tolist(),\n",
    "             lw=3, label='Validation Loss')\n",
    "    plt.xlabel('Epochs', fontsize=20)\n",
    "    plt.ylabel('Loss', fontsize=20)\n",
    "    plt.title('Training and Validation Loss', fontsize=20)\n",
    "    plt.legend(loc='best', fontsize=16)\n",
    "    plt.grid()\n",
    "    plt.savefig('loss_plot.png')\n",
    "    plt.show()\n",
    "\n",
    "\n",
    "# Training Function\n",
    "def train_model(model, loss_function, optimizer, num_epochs=25):\n",
    "    since = time.time()\n",
    "    best_loss = 1e10\n",
    "    best_model_wts = copy.deepcopy(model.state_dict())\n",
    "    loss_history = {'train': [], 'val': []}\n",
    "\n",
    "    for epoch in range(1, num_epochs+1):\n",
    "        print('\\nEpoch {}/{}'.format(epoch, num_epochs))\n",
    "        print('-' * 10)\n",
    "\n",
    "        # Each epoch has a training phase and a validation phase at every 10 epochs\n",
    "        for phase in ['train', 'val']:\n",
    "            # Set model to training or evaluation mode\n",
    "            model.train() if phase == 'train' else model.eval()\n",
    "            running_loss = 0.0\n",
    "\n",
    "            # Iterate over data.\n",
    "            for idx, (inputs, labels) in tqdm(enumerate(dataloaders[phase]),\n",
    "                                              leave=True,\n",
    "                                              total=len(dataloaders[phase])):\n",
    "\n",
    "                inputs = inputs.to(device)\n",
    "                labels = labels.to(device)\n",
    "\n",
    "                # track history if only in train\n",
    "                with torch.set_grad_enabled(phase == 'train'):\n",
    "                    outputs = model(inputs)\n",
    "                    loss = loss_function(outputs, labels)\n",
    "\n",
    "                    # backward + optimize only if in training phase\n",
    "                    if phase == 'train':\n",
    "                        # zero the parameter gradients\n",
    "                        optimizer.zero_grad()\n",
    "                        loss.backward()\n",
    "                        optimizer.step()\n",
    "\n",
    "                running_loss += loss.item()\n",
    "\n",
    "            # if phase == 'train':\n",
    "            #     scheduler.step()\n",
    "\n",
    "            epoch_loss = running_loss / len(dataloaders[phase])\n",
    "            loss_history[phase].append(epoch_loss)\n",
    "            if epoch % 2 == 0:\n",
    "                if phase == 'train':\n",
    "                    train_stats = '{} ==> Loss: {:.4f}'.format(phase.upper(), epoch_loss)\n",
    "                else:\n",
    "                    # print(train_stats)\n",
    "                    print('\\n'+train_stats+' -- {} ==> Loss: {:.4f}'.format(phase.upper(), epoch_loss))\n",
    "\n",
    "            # deep copy the model\n",
    "            if phase == 'val' and epoch_loss < best_loss:\n",
    "                best_loss = epoch_loss\n",
    "                best_model_wts = copy.deepcopy(model.state_dict())\n",
    "                torch.save(model.state_dict(), 'models/LSTM_v0.pth')\n",
    "\n",
    "    time_elapsed = time.time() - since\n",
    "    print('Training completed in {:.0f}m {:.0f}s'.format(\n",
    "        time_elapsed // 60, time_elapsed % 60))\n",
    "\n",
    "    # load best model weights\n",
    "    model.load_state_dict(best_model_wts)\n",
    "\n",
    "    return model, loss_history\n",
    "\n",
    "\n",
    "class RUL_Estimator(nn.Module):\n",
    "\n",
    "    def __init__(self, n_features, hidden_dim=100, dropout=0.2, seq_length=40, num_layers=2, output_dim=1):\n",
    "        super(RUL_Estimator, self).__init__()\n",
    "        self.hidden_dim = hidden_dim\n",
    "        self.seq_length = seq_length\n",
    "        self.num_layers = num_layers\n",
    "\n",
    "        # Define the LSTM layers\n",
    "        self.lstm = nn.LSTM(\n",
    "            input_size=n_features,\n",
    "            hidden_size=self.hidden_dim,\n",
    "            num_layers=self.num_layers,\n",
    "            batch_first=True,\n",
    "            dropout=dropout,\n",
    "            bidirectional=True\n",
    "        )\n",
    "        self.linear = nn.Linear(in_features=self.hidden_dim * 2, out_features=output_dim)\n",
    "\n",
    "    def forward(self, input):\n",
    "        lstm_out, _ = self.lstm(input)\n",
    "        pred = F.relu(self.linear(lstm_out))\n",
    "        # [:, -1, :] as we are interested in the last element of the sequence\n",
    "        return pred[:, -1, :]\n",
    "\n",
    "\n",
    "class CMAPSSDataset(Dataset):\n",
    "    \"\"\"N-CMAPSS dataset.\"\"\"\n",
    "\n",
    "    def __init__(self, csv_file, sep=' ', seq_len=40):\n",
    "        \"\"\"\n",
    "        :param csv_file (string): Path to the csv dataset file.\n",
    "        \"\"\"\n",
    "        self.df_cmapss = pd.read_csv(csv_file, sep=sep)\n",
    "        self.df_data = self.df_cmapss.loc[:, 'unit':'phi']\n",
    "        # drop 'unit' and column 0\n",
    "        self.feature_columns = self.df_data.columns[1:]\n",
    "        self.targets = self.df_cmapss[['unit', 'RUL']]\n",
    "        self.seq_len = seq_len\n",
    "\n",
    "        self.seq_gen = (list(self.gen_sequence(self.df_data[self.df_data['unit'] == id],\n",
    "                                               self.feature_columns))\n",
    "                        for id in self.df_data['unit'].unique() if\n",
    "                        len(self.df_data[self.df_data['unit'] == id]) >= seq_len)\n",
    "\n",
    "        self.seq_data = np.concatenate(list(self.seq_gen)).astype(np.float32)\n",
    "\n",
    "        self.targets_gen = [self.gen_targets(self.targets[self.targets['unit'] == id], ['RUL'])\n",
    "                            for id in self.targets['unit'].unique() if\n",
    "                            len(self.targets[self.targets['unit'] == id]) >= seq_len]\n",
    "\n",
    "        self.seq_targets = np.concatenate(self.targets_gen).astype(np.float32)\n",
    "\n",
    "    # Function to generate sequences of shape: (samples, time steps, features)\n",
    "    def gen_sequence(self, id_df, feature_columns):\n",
    "        \"\"\" Only consider sequences that meets the window-length, no padding is used. This means for testing\n",
    "        we need to drop those which are below the window-length. An alternative would be to pad sequences so that\n",
    "        we can use shorter ones \"\"\"\n",
    "        data_array = id_df[feature_columns].values\n",
    "        num_elements = data_array.shape[0]\n",
    "        if (num_elements != self.seq_len):\n",
    "            for start, stop in zip(range(0, num_elements - self.seq_len), range(self.seq_len, num_elements)):\n",
    "                yield data_array[start:stop, :]\n",
    "        else:\n",
    "            yield data_array[:num_elements, :]\n",
    "\n",
    "    # Function to generate labels\n",
    "    def gen_targets(self, id_df, label):\n",
    "        data_array = id_df[label].values\n",
    "        num_elements = data_array.shape[0]\n",
    "        return data_array[self.seq_len:num_elements, :]\n",
    "\n",
    "    def __len__(self):\n",
    "        return len(self.seq_data) - (self.seq_len - 1)\n",
    "\n",
    "    def __getitem__(self, idx):\n",
    "        data = self.seq_data[idx]\n",
    "        target = self.seq_targets[idx]\n",
    "\n",
    "        data = torch.tensor(data)\n",
    "        target = torch.tensor(target)\n",
    "\n",
    "        return data, target"
   ]
  },
  {
   "cell_type": "code",
   "execution_count": 3,
   "metadata": {},
   "outputs": [],
   "source": [
    "# batch_size = 2944\n",
    "# batch_size = 8192\n",
    "# batch_size = 16384\n",
    "sequence_length = 40\n",
    "cmapss_dataset = {x: CMAPSSDataset(csv_file='data/N-CMAPSS/'+x+'_DS03.csv',\n",
    "                                   sep=' ', seq_len=sequence_length)\n",
    "                  for x in ['train', 'val', 'test']}"
   ]
  },
  {
   "cell_type": "code",
   "execution_count": 4,
   "metadata": {},
   "outputs": [],
   "source": [
    "# batch_size = 32768\n",
    "batch_size = 64512\n",
    "dataloaders = {x: DataLoader(cmapss_dataset[x], batch_size=batch_size,\n",
    "                             num_workers=32, pin_memory=True, shuffle=True)\n",
    "               for x in ['train', 'val', 'test']}\n",
    "# for data, labels in dataloaders['train']:\n",
    "#     print(data.shape)\n",
    "#     print(labels.shape)"
   ]
  },
  {
   "cell_type": "code",
   "execution_count": 5,
   "metadata": {},
   "outputs": [
    {
     "name": "stdout",
     "output_type": "stream",
     "text": [
      "cuda:0\n",
      "590,601 total number of parameters\n",
      "590,601 parameters to train\n",
      "RUL_Estimator(\n",
      "  (lstm): LSTM(32, 100, num_layers=3, batch_first=True, dropout=0.5, bidirectional=True)\n",
      "  (linear): Linear(in_features=200, out_features=1, bias=True)\n",
      ")\n"
     ]
    }
   ],
   "source": [
    "# Get some random training examples\n",
    "# sample_data, sample_labels = next(iter(dataloaders['train']))\n",
    "\n",
    "device = torch.device(\"cuda:0\" if torch.cuda.is_available() else \"cpu\")\n",
    "print(device)\n",
    "\n",
    "lstm_model = RUL_Estimator(n_features=32,\n",
    "                           hidden_dim=100, dropout=0.5,\n",
    "                           seq_length=sequence_length,\n",
    "                           num_layers=3, output_dim=1)\n",
    "\n",
    "total_params = sum(p.numel() for p in lstm_model.parameters())\n",
    "print(f'{total_params:,} total number of parameters')\n",
    "total_trainable_params = sum(p.numel() for p in lstm_model.parameters() if p.requires_grad)\n",
    "print(f'{total_trainable_params:,} parameters to train')\n",
    "print(lstm_model)"
   ]
  },
  {
   "cell_type": "code",
   "execution_count": null,
   "metadata": {},
   "outputs": [
    {
     "name": "stdout",
     "output_type": "stream",
     "text": [
      "\n",
      "Epoch 1/20\n",
      "----------\n"
     ]
    },
    {
     "name": "stderr",
     "output_type": "stream",
     "text": [
      "  0%|          | 0/87 [00:00<?, ?it/s]/home/ec2-user/anaconda3/envs/pytorch_latest_p36/lib/python3.6/site-packages/torch/nn/modules/rnn.py:582: UserWarning: RNN module weights are not part of single contiguous chunk of memory. This means they need to be compacted at every call, possibly greatly increasing memory usage. To compact weights again call flatten_parameters(). (Triggered internally at  /opt/conda/conda-bld/pytorch_1607370116979/work/aten/src/ATen/native/cudnn/RNN.cpp:775.)\n",
      "  self.dropout, self.training, self.bidirectional, self.batch_first)\n",
      "100%|██████████| 87/87 [02:35<00:00,  1.79s/it]\n",
      "100%|██████████| 34/34 [00:18<00:00,  1.82it/s]"
     ]
    },
    {
     "name": "stdout",
     "output_type": "stream",
     "text": [
      "\n",
      "Epoch 2/20\n",
      "----------\n"
     ]
    },
    {
     "name": "stderr",
     "output_type": "stream",
     "text": [
      "\n",
      "100%|██████████| 87/87 [02:09<00:00,  1.48s/it]\n",
      "100%|██████████| 34/34 [00:19<00:00,  1.78it/s]"
     ]
    },
    {
     "name": "stdout",
     "output_type": "stream",
     "text": [
      "\n",
      "TRAIN ==> Loss: 0.0500 -- VAL ==> Loss: 0.0561\n",
      "\n",
      "Epoch 3/20\n",
      "----------\n"
     ]
    },
    {
     "name": "stderr",
     "output_type": "stream",
     "text": [
      "\n",
      "100%|██████████| 87/87 [02:09<00:00,  1.49s/it]\n",
      "100%|██████████| 34/34 [00:18<00:00,  1.83it/s]"
     ]
    },
    {
     "name": "stdout",
     "output_type": "stream",
     "text": [
      "\n",
      "Epoch 4/20\n",
      "----------\n"
     ]
    },
    {
     "name": "stderr",
     "output_type": "stream",
     "text": [
      "\n",
      "100%|██████████| 87/87 [02:09<00:00,  1.49s/it]\n",
      "100%|██████████| 34/34 [00:18<00:00,  1.83it/s]"
     ]
    },
    {
     "name": "stdout",
     "output_type": "stream",
     "text": [
      "\n",
      "TRAIN ==> Loss: 0.0236 -- VAL ==> Loss: 0.0248\n",
      "\n",
      "Epoch 5/20\n",
      "----------\n"
     ]
    },
    {
     "name": "stderr",
     "output_type": "stream",
     "text": [
      "\n",
      "100%|██████████| 87/87 [02:08<00:00,  1.48s/it]\n",
      "100%|██████████| 34/34 [00:18<00:00,  1.83it/s]"
     ]
    },
    {
     "name": "stdout",
     "output_type": "stream",
     "text": [
      "\n",
      "Epoch 6/20\n",
      "----------\n"
     ]
    },
    {
     "name": "stderr",
     "output_type": "stream",
     "text": [
      "\n",
      "100%|██████████| 87/87 [02:08<00:00,  1.48s/it]\n",
      "100%|██████████| 34/34 [00:18<00:00,  1.83it/s]"
     ]
    },
    {
     "name": "stdout",
     "output_type": "stream",
     "text": [
      "\n",
      "TRAIN ==> Loss: 0.0219 -- VAL ==> Loss: 0.0205\n",
      "\n",
      "Epoch 7/20\n",
      "----------\n"
     ]
    },
    {
     "name": "stderr",
     "output_type": "stream",
     "text": [
      "\n",
      "100%|██████████| 87/87 [02:08<00:00,  1.48s/it]\n",
      "100%|██████████| 34/34 [00:18<00:00,  1.85it/s]"
     ]
    },
    {
     "name": "stdout",
     "output_type": "stream",
     "text": [
      "\n",
      "Epoch 8/20\n",
      "----------\n"
     ]
    },
    {
     "name": "stderr",
     "output_type": "stream",
     "text": [
      "\n",
      "100%|██████████| 87/87 [02:09<00:00,  1.49s/it]\n",
      "100%|██████████| 34/34 [00:18<00:00,  1.80it/s]"
     ]
    },
    {
     "name": "stdout",
     "output_type": "stream",
     "text": [
      "\n",
      "TRAIN ==> Loss: 0.0170 -- VAL ==> Loss: 0.0144\n",
      "\n",
      "Epoch 9/20\n",
      "----------\n"
     ]
    },
    {
     "name": "stderr",
     "output_type": "stream",
     "text": [
      "\n",
      "100%|██████████| 87/87 [02:09<00:00,  1.49s/it]\n",
      "100%|██████████| 34/34 [00:19<00:00,  1.72it/s]"
     ]
    },
    {
     "name": "stdout",
     "output_type": "stream",
     "text": [
      "\n",
      "Epoch 10/20\n",
      "----------\n"
     ]
    },
    {
     "name": "stderr",
     "output_type": "stream",
     "text": [
      "\n",
      "100%|██████████| 87/87 [02:10<00:00,  1.50s/it]\n",
      "100%|██████████| 34/34 [00:19<00:00,  1.79it/s]"
     ]
    },
    {
     "name": "stdout",
     "output_type": "stream",
     "text": [
      "\n",
      "TRAIN ==> Loss: 0.0175 -- VAL ==> Loss: 0.0128\n",
      "\n",
      "Epoch 11/20\n",
      "----------\n"
     ]
    },
    {
     "name": "stderr",
     "output_type": "stream",
     "text": [
      "\n",
      "100%|██████████| 87/87 [02:09<00:00,  1.49s/it]\n",
      "100%|██████████| 34/34 [00:18<00:00,  1.81it/s]"
     ]
    },
    {
     "name": "stdout",
     "output_type": "stream",
     "text": [
      "\n",
      "Epoch 12/20\n",
      "----------\n"
     ]
    },
    {
     "name": "stderr",
     "output_type": "stream",
     "text": [
      "\n",
      "100%|██████████| 87/87 [02:12<00:00,  1.52s/it]\n",
      "100%|██████████| 34/34 [00:18<00:00,  1.84it/s]"
     ]
    },
    {
     "name": "stdout",
     "output_type": "stream",
     "text": [
      "\n",
      "TRAIN ==> Loss: 0.0166 -- VAL ==> Loss: 0.0201\n",
      "\n",
      "Epoch 13/20\n",
      "----------\n"
     ]
    },
    {
     "name": "stderr",
     "output_type": "stream",
     "text": [
      "\n",
      "100%|██████████| 87/87 [02:10<00:00,  1.50s/it]\n",
      "100%|██████████| 34/34 [00:18<00:00,  1.84it/s]"
     ]
    },
    {
     "name": "stdout",
     "output_type": "stream",
     "text": [
      "\n",
      "Epoch 14/20\n",
      "----------\n"
     ]
    },
    {
     "name": "stderr",
     "output_type": "stream",
     "text": [
      "\n",
      "100%|██████████| 87/87 [02:10<00:00,  1.50s/it]\n",
      "100%|██████████| 34/34 [00:18<00:00,  1.80it/s]"
     ]
    },
    {
     "name": "stdout",
     "output_type": "stream",
     "text": [
      "\n",
      "TRAIN ==> Loss: 0.0155 -- VAL ==> Loss: 0.0156\n",
      "\n",
      "Epoch 15/20\n",
      "----------\n"
     ]
    },
    {
     "name": "stderr",
     "output_type": "stream",
     "text": [
      "\n",
      "100%|██████████| 87/87 [02:08<00:00,  1.48s/it]\n",
      "100%|██████████| 34/34 [00:18<00:00,  1.85it/s]"
     ]
    },
    {
     "name": "stdout",
     "output_type": "stream",
     "text": [
      "\n",
      "Epoch 16/20\n",
      "----------\n"
     ]
    },
    {
     "name": "stderr",
     "output_type": "stream",
     "text": [
      "\n",
      "100%|██████████| 87/87 [02:09<00:00,  1.49s/it]\n",
      "100%|██████████| 34/34 [00:19<00:00,  1.71it/s]"
     ]
    },
    {
     "name": "stdout",
     "output_type": "stream",
     "text": [
      "\n",
      "TRAIN ==> Loss: 0.0133 -- VAL ==> Loss: 0.0121\n",
      "\n",
      "Epoch 17/20\n",
      "----------\n"
     ]
    },
    {
     "name": "stderr",
     "output_type": "stream",
     "text": [
      "\n",
      "100%|██████████| 87/87 [02:07<00:00,  1.47s/it]\n",
      "100%|██████████| 34/34 [00:19<00:00,  1.75it/s]"
     ]
    },
    {
     "name": "stdout",
     "output_type": "stream",
     "text": [
      "\n",
      "Epoch 18/20\n",
      "----------\n"
     ]
    },
    {
     "name": "stderr",
     "output_type": "stream",
     "text": [
      "\n",
      "100%|██████████| 87/87 [02:09<00:00,  1.49s/it]\n",
      "100%|██████████| 34/34 [00:19<00:00,  1.77it/s]"
     ]
    },
    {
     "name": "stdout",
     "output_type": "stream",
     "text": [
      "\n",
      "TRAIN ==> Loss: 0.0143 -- VAL ==> Loss: 0.0136\n",
      "\n",
      "Epoch 19/20\n",
      "----------\n"
     ]
    },
    {
     "name": "stderr",
     "output_type": "stream",
     "text": [
      "\n",
      "100%|██████████| 87/87 [02:09<00:00,  1.49s/it]\n",
      "100%|██████████| 34/34 [00:18<00:00,  1.82it/s]"
     ]
    },
    {
     "name": "stdout",
     "output_type": "stream",
     "text": [
      "\n",
      "Epoch 20/20\n",
      "----------\n"
     ]
    },
    {
     "name": "stderr",
     "output_type": "stream",
     "text": [
      "\n",
      "100%|██████████| 87/87 [02:09<00:00,  1.49s/it]\n",
      "100%|██████████| 34/34 [00:19<00:00,  1.77it/s]"
     ]
    },
    {
     "name": "stdout",
     "output_type": "stream",
     "text": [
      "\n",
      "TRAIN ==> Loss: 0.0147 -- VAL ==> Loss: 0.0155\n",
      "Training completed in 53m 26s\n",
      "\n",
      "Train Loss: 0.013287419164232138\n",
      "Val Loss: 0.011446853003957692\n"
     ]
    },
    {
     "name": "stderr",
     "output_type": "stream",
     "text": [
      "\n"
     ]
    }
   ],
   "source": [
    "# torch.cuda.empty_cache()\n",
    "lstm_model = nn.DataParallel(lstm_model)\n",
    "lstm_model = lstm_model.to(device)\n",
    "\n",
    "loss_function = torch.nn.MSELoss()\n",
    "\n",
    "optimizer = torch.optim.Adam(lstm_model.parameters(), lr=1e-3)\n",
    "\n",
    "lstm_model, loss_history = train_model(lstm_model,\n",
    "                                       loss_function,\n",
    "                                       optimizer,\n",
    "                                       num_epochs=20)\n",
    "\n",
    "print(f'\\nTrain Loss: {np.min(loss_history[\"train\"])}')\n",
    "print(f'Val Loss: {np.min(loss_history[\"val\"])}')"
   ]
  },
  {
   "cell_type": "code",
   "execution_count": null,
   "metadata": {},
   "outputs": [
    {
     "data": {
      "image/png": "[encoded data removed]",
      "text/plain": [
       "<Figure size 1440x576 with 1 Axes>"
      ]
     },
     "metadata": {
      "needs_background": "light"
     },
     "output_type": "display_data"
    }
   ],
   "source": [
    "# Save the training and validation loss for future visualization without\n",
    "# executing the training.\n",
    "results_loss = pd.DataFrame({'train_loss': loss_history['train'],\n",
    "                             'val_loss': loss_history['val']})\n",
    "results_loss.to_csv('results_loss.csv', sep=';', float_format='%.4f')\n",
    "\n",
    "if os.path.exists('results_loss.csv'):\n",
    "    results_loss = pd.read_csv(\"results_loss.csv\", sep=';')\n",
    "\n",
    "plot_loss_history(results_loss['train_loss'], results_loss['val_loss'])"
   ]
  },
  {
   "cell_type": "code",
   "execution_count": 16,
   "metadata": {},
   "outputs": [],
   "source": [
    "# Prediction on Test Data\n",
    "# load best saved model from the current run\n",
    "# best_model = RUL_Estimator(n_features=32,\n",
    "#                            hidden_dim=100, dropout=0.5,\n",
    "#                            seq_length=sequence_length,\n",
    "#                            num_layers=3, output_dim=1)\n",
    "\n",
    "# if os.path.exists('models/LSTM_v0.pth'):\n",
    "#     best_model.load_state_dict(torch.load('models/LSTM_v0.pth'))\n",
    "#     best_model.to(device)\n",
    "#     print('Loaded LSTM_v0 model.')"
   ]
  },
  {
   "cell_type": "code",
   "execution_count": 14,
   "metadata": {},
   "outputs": [
    {
     "name": "stdout",
     "output_type": "stream",
     "text": [
      "Test RMSE: 8.671842050582605\n"
     ]
    }
   ],
   "source": [
    "# load the scaler\n",
    "target_scaler = load(open('data/N-CMAPSS/target_scaler_DS03.pkl', 'rb'))\n",
    "best_model = lstm_model\n",
    "RMSE = []\n",
    "with torch.no_grad():\n",
    "    for test_data, test_labels in dataloaders['test']:\n",
    "        test_labels = target_scaler.inverse_transform(test_labels)\n",
    "        test_data = test_data.to(device)\n",
    "        pred = best_model(test_data)\n",
    "        pred = target_scaler.inverse_transform(pred.cpu())\n",
    "        RMSE.append(mean_squared_error(test_labels, pred, squared=False))\n",
    "    print(f'Test RMSE: {np.mean(RMSE)}')"
   ]
  }
 ],
 "metadata": {
  "kernelspec": {
   "display_name": "PyTorch",
   "language": "python",
   "name": "pytorch"
  },
  "language_info": {
   "codemirror_mode": {
    "name": "ipython",
    "version": 3
   },
   "file_extension": ".py",
   "mimetype": "text/x-python",
   "name": "python",
   "nbconvert_exporter": "python",
   "pygments_lexer": "ipython3",
   "version": "3.9.7"
  }
 },
 "nbformat": 4,
 "nbformat_minor": 1
}